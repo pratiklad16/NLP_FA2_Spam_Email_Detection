{
  "cells": [
    {
      "cell_type": "markdown",
      "metadata": {
        "id": "WTCci-eVI7NG"
      },
      "source": [
        "# Content:\n"
      ]
    },
    {
      "cell_type": "markdown",
      "metadata": {
        "id": "e51wLTmFI7NH"
      },
      "source": [
        "edd"
      ]
    },
    {
      "cell_type": "markdown",
      "metadata": {
        "id": "PBAGOyW3I7NH"
      },
      "source": [
        "### Import relevant libraries"
      ]
    },
    {
      "cell_type": "code",
      "execution_count": 1,
      "metadata": {
        "colab": {
          "base_uri": "https://localhost:8080/"
        },
        "id": "ivDIKH-1I7NH",
        "outputId": "9b0a2853-89cc-49f6-8679-a6327037f03a"
      },
      "outputs": [
        {
          "name": "stderr",
          "output_type": "stream",
          "text": [
            "DEPRECATION: tsfresh 0.18.0 has a non-standard dependency specifier matrixprofile>=1.1.10<2.0.0. pip 24.0 will enforce this behaviour change. A possible replacement is to upgrade to a newer version of tsfresh or contact the author to suggest that they release a version with a conforming dependency specifiers. Discussion can be found at https://github.com/pypa/pip/issues/12063\n",
            "WARNING: There was an error checking the latest version of pip.\n"
          ]
        },
        {
          "name": "stdout",
          "output_type": "stream",
          "text": [
            "Requirement already satisfied: tensorflow-text in c:\\users\\satha\\anaconda3\\envs\\py3-tf2\\lib\\site-packages (2.10.0)\n",
            "Requirement already satisfied: tensorflow-hub>=0.8.0 in c:\\users\\satha\\anaconda3\\envs\\py3-tf2\\lib\\site-packages (from tensorflow-text) (0.8.0)\n",
            "Requirement already satisfied: tensorflow<2.11,>=2.10.0 in c:\\users\\satha\\anaconda3\\envs\\py3-tf2\\lib\\site-packages (from tensorflow-text) (2.10.0)\n",
            "Requirement already satisfied: absl-py>=1.0.0 in c:\\users\\satha\\anaconda3\\envs\\py3-tf2\\lib\\site-packages (from tensorflow<2.11,>=2.10.0->tensorflow-text) (1.4.0)\n",
            "Requirement already satisfied: astunparse>=1.6.0 in c:\\users\\satha\\anaconda3\\envs\\py3-tf2\\lib\\site-packages (from tensorflow<2.11,>=2.10.0->tensorflow-text) (1.6.3)\n",
            "Requirement already satisfied: flatbuffers>=2.0 in c:\\users\\satha\\anaconda3\\envs\\py3-tf2\\lib\\site-packages (from tensorflow<2.11,>=2.10.0->tensorflow-text) (2.0)\n",
            "Requirement already satisfied: gast<=0.4.0,>=0.2.1 in c:\\users\\satha\\anaconda3\\envs\\py3-tf2\\lib\\site-packages (from tensorflow<2.11,>=2.10.0->tensorflow-text) (0.4.0)\n",
            "Requirement already satisfied: google-pasta>=0.1.1 in c:\\users\\satha\\anaconda3\\envs\\py3-tf2\\lib\\site-packages (from tensorflow<2.11,>=2.10.0->tensorflow-text) (0.2.0)\n",
            "Requirement already satisfied: h5py>=2.9.0 in c:\\users\\satha\\anaconda3\\envs\\py3-tf2\\lib\\site-packages (from tensorflow<2.11,>=2.10.0->tensorflow-text) (3.9.0)\n",
            "Requirement already satisfied: keras-preprocessing>=1.1.1 in c:\\users\\satha\\anaconda3\\envs\\py3-tf2\\lib\\site-packages (from tensorflow<2.11,>=2.10.0->tensorflow-text) (1.1.2)\n",
            "Requirement already satisfied: libclang>=13.0.0 in c:\\users\\satha\\anaconda3\\envs\\py3-tf2\\lib\\site-packages (from tensorflow<2.11,>=2.10.0->tensorflow-text) (16.0.6)\n",
            "Requirement already satisfied: numpy>=1.20 in c:\\users\\satha\\anaconda3\\envs\\py3-tf2\\lib\\site-packages (from tensorflow<2.11,>=2.10.0->tensorflow-text) (1.24.3)\n",
            "Requirement already satisfied: opt-einsum>=2.3.2 in c:\\users\\satha\\anaconda3\\envs\\py3-tf2\\lib\\site-packages (from tensorflow<2.11,>=2.10.0->tensorflow-text) (3.3.0)\n",
            "Requirement already satisfied: packaging in c:\\users\\satha\\anaconda3\\envs\\py3-tf2\\lib\\site-packages (from tensorflow<2.11,>=2.10.0->tensorflow-text) (23.1)\n",
            "Requirement already satisfied: protobuf<3.20,>=3.9.2 in c:\\users\\satha\\anaconda3\\envs\\py3-tf2\\lib\\site-packages (from tensorflow<2.11,>=2.10.0->tensorflow-text) (3.19.6)\n",
            "Requirement already satisfied: setuptools in c:\\users\\satha\\anaconda3\\envs\\py3-tf2\\lib\\site-packages (from tensorflow<2.11,>=2.10.0->tensorflow-text) (68.0.0)\n",
            "Requirement already satisfied: six>=1.12.0 in c:\\users\\satha\\anaconda3\\envs\\py3-tf2\\lib\\site-packages (from tensorflow<2.11,>=2.10.0->tensorflow-text) (1.16.0)\n",
            "Requirement already satisfied: termcolor>=1.1.0 in c:\\users\\satha\\anaconda3\\envs\\py3-tf2\\lib\\site-packages (from tensorflow<2.11,>=2.10.0->tensorflow-text) (2.1.0)\n",
            "Requirement already satisfied: typing-extensions>=3.6.6 in c:\\users\\satha\\anaconda3\\envs\\py3-tf2\\lib\\site-packages (from tensorflow<2.11,>=2.10.0->tensorflow-text) (4.7.1)\n",
            "Requirement already satisfied: wrapt>=1.11.0 in c:\\users\\satha\\anaconda3\\envs\\py3-tf2\\lib\\site-packages (from tensorflow<2.11,>=2.10.0->tensorflow-text) (1.14.1)\n",
            "Requirement already satisfied: tensorflow-io-gcs-filesystem>=0.23.1 in c:\\users\\satha\\anaconda3\\envs\\py3-tf2\\lib\\site-packages (from tensorflow<2.11,>=2.10.0->tensorflow-text) (0.31.0)\n",
            "Requirement already satisfied: grpcio<2.0,>=1.24.3 in c:\\users\\satha\\anaconda3\\envs\\py3-tf2\\lib\\site-packages (from tensorflow<2.11,>=2.10.0->tensorflow-text) (1.42.0)\n",
            "Requirement already satisfied: tensorboard<2.11,>=2.10 in c:\\users\\satha\\anaconda3\\envs\\py3-tf2\\lib\\site-packages (from tensorflow<2.11,>=2.10.0->tensorflow-text) (2.10.0)\n",
            "Requirement already satisfied: tensorflow-estimator<2.11,>=2.10.0 in c:\\users\\satha\\anaconda3\\envs\\py3-tf2\\lib\\site-packages (from tensorflow<2.11,>=2.10.0->tensorflow-text) (2.10.0)\n",
            "Requirement already satisfied: keras<2.11,>=2.10.0 in c:\\users\\satha\\anaconda3\\envs\\py3-tf2\\lib\\site-packages (from tensorflow<2.11,>=2.10.0->tensorflow-text) (2.10.0)\n",
            "Requirement already satisfied: wheel<1.0,>=0.23.0 in c:\\users\\satha\\anaconda3\\envs\\py3-tf2\\lib\\site-packages (from astunparse>=1.6.0->tensorflow<2.11,>=2.10.0->tensorflow-text) (0.41.2)\n",
            "Requirement already satisfied: google-auth<3,>=1.6.3 in c:\\users\\satha\\anaconda3\\envs\\py3-tf2\\lib\\site-packages (from tensorboard<2.11,>=2.10->tensorflow<2.11,>=2.10.0->tensorflow-text) (2.22.0)\n",
            "Requirement already satisfied: google-auth-oauthlib<0.5,>=0.4.1 in c:\\users\\satha\\anaconda3\\envs\\py3-tf2\\lib\\site-packages (from tensorboard<2.11,>=2.10->tensorflow<2.11,>=2.10.0->tensorflow-text) (0.4.4)\n",
            "Requirement already satisfied: markdown>=2.6.8 in c:\\users\\satha\\anaconda3\\envs\\py3-tf2\\lib\\site-packages (from tensorboard<2.11,>=2.10->tensorflow<2.11,>=2.10.0->tensorflow-text) (3.4.1)\n",
            "Requirement already satisfied: requests<3,>=2.21.0 in c:\\users\\satha\\anaconda3\\envs\\py3-tf2\\lib\\site-packages (from tensorboard<2.11,>=2.10->tensorflow<2.11,>=2.10.0->tensorflow-text) (2.31.0)\n",
            "Requirement already satisfied: tensorboard-data-server<0.7.0,>=0.6.0 in c:\\users\\satha\\anaconda3\\envs\\py3-tf2\\lib\\site-packages (from tensorboard<2.11,>=2.10->tensorflow<2.11,>=2.10.0->tensorflow-text) (0.6.1)\n",
            "Requirement already satisfied: tensorboard-plugin-wit>=1.6.0 in c:\\users\\satha\\anaconda3\\envs\\py3-tf2\\lib\\site-packages (from tensorboard<2.11,>=2.10->tensorflow<2.11,>=2.10.0->tensorflow-text) (1.8.1)\n",
            "Requirement already satisfied: werkzeug>=1.0.1 in c:\\users\\satha\\anaconda3\\envs\\py3-tf2\\lib\\site-packages (from tensorboard<2.11,>=2.10->tensorflow<2.11,>=2.10.0->tensorflow-text) (2.2.3)\n",
            "Requirement already satisfied: cachetools<6.0,>=2.0.0 in c:\\users\\satha\\anaconda3\\envs\\py3-tf2\\lib\\site-packages (from google-auth<3,>=1.6.3->tensorboard<2.11,>=2.10->tensorflow<2.11,>=2.10.0->tensorflow-text) (4.2.2)\n",
            "Requirement already satisfied: pyasn1-modules>=0.2.1 in c:\\users\\satha\\anaconda3\\envs\\py3-tf2\\lib\\site-packages (from google-auth<3,>=1.6.3->tensorboard<2.11,>=2.10->tensorflow<2.11,>=2.10.0->tensorflow-text) (0.2.8)\n",
            "Requirement already satisfied: rsa<5,>=3.1.4 in c:\\users\\satha\\anaconda3\\envs\\py3-tf2\\lib\\site-packages (from google-auth<3,>=1.6.3->tensorboard<2.11,>=2.10->tensorflow<2.11,>=2.10.0->tensorflow-text) (4.7.2)\n",
            "Requirement already satisfied: urllib3<2.0 in c:\\users\\satha\\anaconda3\\envs\\py3-tf2\\lib\\site-packages (from google-auth<3,>=1.6.3->tensorboard<2.11,>=2.10->tensorflow<2.11,>=2.10.0->tensorflow-text) (1.26.16)\n",
            "Requirement already satisfied: requests-oauthlib>=0.7.0 in c:\\users\\satha\\anaconda3\\envs\\py3-tf2\\lib\\site-packages (from google-auth-oauthlib<0.5,>=0.4.1->tensorboard<2.11,>=2.10->tensorflow<2.11,>=2.10.0->tensorflow-text) (1.3.0)\n",
            "Requirement already satisfied: charset-normalizer<4,>=2 in c:\\users\\satha\\anaconda3\\envs\\py3-tf2\\lib\\site-packages (from requests<3,>=2.21.0->tensorboard<2.11,>=2.10->tensorflow<2.11,>=2.10.0->tensorflow-text) (2.0.4)\n",
            "Requirement already satisfied: idna<4,>=2.5 in c:\\users\\satha\\anaconda3\\envs\\py3-tf2\\lib\\site-packages (from requests<3,>=2.21.0->tensorboard<2.11,>=2.10->tensorflow<2.11,>=2.10.0->tensorflow-text) (3.4)\n",
            "Requirement already satisfied: certifi>=2017.4.17 in c:\\users\\satha\\anaconda3\\envs\\py3-tf2\\lib\\site-packages (from requests<3,>=2.21.0->tensorboard<2.11,>=2.10->tensorflow<2.11,>=2.10.0->tensorflow-text) (2023.7.22)\n",
            "Requirement already satisfied: MarkupSafe>=2.1.1 in c:\\users\\satha\\anaconda3\\envs\\py3-tf2\\lib\\site-packages (from werkzeug>=1.0.1->tensorboard<2.11,>=2.10->tensorflow<2.11,>=2.10.0->tensorflow-text) (2.1.1)\n",
            "Requirement already satisfied: pyasn1<0.5.0,>=0.4.6 in c:\\users\\satha\\anaconda3\\envs\\py3-tf2\\lib\\site-packages (from pyasn1-modules>=0.2.1->google-auth<3,>=1.6.3->tensorboard<2.11,>=2.10->tensorflow<2.11,>=2.10.0->tensorflow-text) (0.4.8)\n",
            "Requirement already satisfied: oauthlib>=3.0.0 in c:\\users\\satha\\anaconda3\\envs\\py3-tf2\\lib\\site-packages (from requests-oauthlib>=0.7.0->google-auth-oauthlib<0.5,>=0.4.1->tensorboard<2.11,>=2.10->tensorflow<2.11,>=2.10.0->tensorflow-text) (3.2.2)\n"
          ]
        }
      ],
      "source": [
        "!pip install tensorflow-text\n",
        "import tensorflow as tf\n",
        "import tensorflow_hub as hub\n",
        "import tensorflow_text as text\n",
        "import pandas as pd"
      ]
    },
    {
      "cell_type": "markdown",
      "metadata": {
        "id": "E2JLD48bI7NI"
      },
      "source": [
        "### Read the Data"
      ]
    },
    {
      "cell_type": "code",
      "execution_count": 2,
      "metadata": {
        "colab": {
          "base_uri": "https://localhost:8080/",
          "height": 73
        },
        "id": "LY-3DucEJZXv",
        "outputId": "9d6846ed-5a39-463d-874c-e871a8a40d7c"
      },
      "outputs": [
        {
          "ename": "ModuleNotFoundError",
          "evalue": "No module named 'google.colab'",
          "output_type": "error",
          "traceback": [
            "\u001b[1;31m---------------------------------------------------------------------------\u001b[0m",
            "\u001b[1;31mModuleNotFoundError\u001b[0m                       Traceback (most recent call last)",
            "\u001b[1;32md:\\GITHUB\\ML\\4_NLP\\BERT\\1_Spam_Email_Detector\\model.ipynb Cell 6\u001b[0m line \u001b[0;36m1\n\u001b[1;32m----> <a href='vscode-notebook-cell:/d%3A/GITHUB/ML/4_NLP/BERT/1_Spam_Email_Detector/model.ipynb#W5sZmlsZQ%3D%3D?line=0'>1</a>\u001b[0m \u001b[39mfrom\u001b[39;00m \u001b[39mgoogle\u001b[39;00m\u001b[39m.\u001b[39;00m\u001b[39mcolab\u001b[39;00m \u001b[39mimport\u001b[39;00m files\n\u001b[0;32m      <a href='vscode-notebook-cell:/d%3A/GITHUB/ML/4_NLP/BERT/1_Spam_Email_Detector/model.ipynb#W5sZmlsZQ%3D%3D?line=1'>2</a>\u001b[0m \u001b[39mimport\u001b[39;00m \u001b[39mio\u001b[39;00m\n\u001b[0;32m      <a href='vscode-notebook-cell:/d%3A/GITHUB/ML/4_NLP/BERT/1_Spam_Email_Detector/model.ipynb#W5sZmlsZQ%3D%3D?line=2'>3</a>\u001b[0m uploaded \u001b[39m=\u001b[39m files\u001b[39m.\u001b[39mupload()\n",
            "\u001b[1;31mModuleNotFoundError\u001b[0m: No module named 'google.colab'"
          ]
        }
      ],
      "source": [
        "from google.colab import files\n",
        "import io\n",
        "uploaded = files.upload()\n"
      ]
    },
    {
      "cell_type": "code",
      "execution_count": null,
      "metadata": {
        "colab": {
          "base_uri": "https://localhost:8080/"
        },
        "id": "KFGaIS71LV9L",
        "outputId": "dac74b63-c0d0-4c3d-c0de-f87569a3b440"
      },
      "outputs": [
        {
          "data": {
            "text/plain": [
              "dict_keys(['spam.csv'])"
            ]
          },
          "execution_count": 4,
          "metadata": {},
          "output_type": "execute_result"
        }
      ],
      "source": [
        "first_key = next(iter(uploaded))\n",
        "uploaded.keys()"
      ]
    },
    {
      "cell_type": "code",
      "execution_count": null,
      "metadata": {
        "id": "ywPsKDhYKz9I"
      },
      "outputs": [],
      "source": [
        "uploaded = uploaded[first_key]\n",
        "df = pd.read_csv(io.BytesIO(uploaded))"
      ]
    },
    {
      "cell_type": "code",
      "execution_count": null,
      "metadata": {
        "id": "b3pYcGRYI7NI"
      },
      "outputs": [],
      "source": [
        "#df= pd.read_csv('spam.csv')\n",
        "#df.describe(include='all')"
      ]
    },
    {
      "cell_type": "code",
      "execution_count": null,
      "metadata": {
        "colab": {
          "base_uri": "https://localhost:8080/",
          "height": 175
        },
        "id": "6iSbkVXBI7NI",
        "outputId": "bb27a1f9-cfb7-4a94-9bd6-1b1be89dc70c"
      },
      "outputs": [
        {
          "data": {
            "text/html": [
              "\n",
              "  <div id=\"df-ac42ccfe-303b-40eb-b5b2-d355853ffc5b\" class=\"colab-df-container\">\n",
              "    <div>\n",
              "<style scoped>\n",
              "    .dataframe tbody tr th:only-of-type {\n",
              "        vertical-align: middle;\n",
              "    }\n",
              "\n",
              "    .dataframe tbody tr th {\n",
              "        vertical-align: top;\n",
              "    }\n",
              "\n",
              "    .dataframe thead tr th {\n",
              "        text-align: left;\n",
              "    }\n",
              "\n",
              "    .dataframe thead tr:last-of-type th {\n",
              "        text-align: right;\n",
              "    }\n",
              "</style>\n",
              "<table border=\"1\" class=\"dataframe\">\n",
              "  <thead>\n",
              "    <tr>\n",
              "      <th></th>\n",
              "      <th colspan=\"4\" halign=\"left\">Message</th>\n",
              "    </tr>\n",
              "    <tr>\n",
              "      <th></th>\n",
              "      <th>count</th>\n",
              "      <th>unique</th>\n",
              "      <th>top</th>\n",
              "      <th>freq</th>\n",
              "    </tr>\n",
              "    <tr>\n",
              "      <th>Category</th>\n",
              "      <th></th>\n",
              "      <th></th>\n",
              "      <th></th>\n",
              "      <th></th>\n",
              "    </tr>\n",
              "  </thead>\n",
              "  <tbody>\n",
              "    <tr>\n",
              "      <th>ham</th>\n",
              "      <td>4825</td>\n",
              "      <td>4516</td>\n",
              "      <td>Sorry, I'll call later</td>\n",
              "      <td>30</td>\n",
              "    </tr>\n",
              "    <tr>\n",
              "      <th>spam</th>\n",
              "      <td>747</td>\n",
              "      <td>641</td>\n",
              "      <td>Please call our customer service representativ...</td>\n",
              "      <td>4</td>\n",
              "    </tr>\n",
              "  </tbody>\n",
              "</table>\n",
              "</div>\n",
              "    <div class=\"colab-df-buttons\">\n",
              "\n",
              "  <div class=\"colab-df-container\">\n",
              "    <button class=\"colab-df-convert\" onclick=\"convertToInteractive('df-ac42ccfe-303b-40eb-b5b2-d355853ffc5b')\"\n",
              "            title=\"Convert this dataframe to an interactive table.\"\n",
              "            style=\"display:none;\">\n",
              "\n",
              "  <svg xmlns=\"http://www.w3.org/2000/svg\" height=\"24px\" viewBox=\"0 -960 960 960\">\n",
              "    <path d=\"M120-120v-720h720v720H120Zm60-500h600v-160H180v160Zm220 220h160v-160H400v160Zm0 220h160v-160H400v160ZM180-400h160v-160H180v160Zm440 0h160v-160H620v160ZM180-180h160v-160H180v160Zm440 0h160v-160H620v160Z\"/>\n",
              "  </svg>\n",
              "    </button>\n",
              "\n",
              "  <style>\n",
              "    .colab-df-container {\n",
              "      display:flex;\n",
              "      gap: 12px;\n",
              "    }\n",
              "\n",
              "    .colab-df-convert {\n",
              "      background-color: #E8F0FE;\n",
              "      border: none;\n",
              "      border-radius: 50%;\n",
              "      cursor: pointer;\n",
              "      display: none;\n",
              "      fill: #1967D2;\n",
              "      height: 32px;\n",
              "      padding: 0 0 0 0;\n",
              "      width: 32px;\n",
              "    }\n",
              "\n",
              "    .colab-df-convert:hover {\n",
              "      background-color: #E2EBFA;\n",
              "      box-shadow: 0px 1px 2px rgba(60, 64, 67, 0.3), 0px 1px 3px 1px rgba(60, 64, 67, 0.15);\n",
              "      fill: #174EA6;\n",
              "    }\n",
              "\n",
              "    .colab-df-buttons div {\n",
              "      margin-bottom: 4px;\n",
              "    }\n",
              "\n",
              "    [theme=dark] .colab-df-convert {\n",
              "      background-color: #3B4455;\n",
              "      fill: #D2E3FC;\n",
              "    }\n",
              "\n",
              "    [theme=dark] .colab-df-convert:hover {\n",
              "      background-color: #434B5C;\n",
              "      box-shadow: 0px 1px 3px 1px rgba(0, 0, 0, 0.15);\n",
              "      filter: drop-shadow(0px 1px 2px rgba(0, 0, 0, 0.3));\n",
              "      fill: #FFFFFF;\n",
              "    }\n",
              "  </style>\n",
              "\n",
              "    <script>\n",
              "      const buttonEl =\n",
              "        document.querySelector('#df-ac42ccfe-303b-40eb-b5b2-d355853ffc5b button.colab-df-convert');\n",
              "      buttonEl.style.display =\n",
              "        google.colab.kernel.accessAllowed ? 'block' : 'none';\n",
              "\n",
              "      async function convertToInteractive(key) {\n",
              "        const element = document.querySelector('#df-ac42ccfe-303b-40eb-b5b2-d355853ffc5b');\n",
              "        const dataTable =\n",
              "          await google.colab.kernel.invokeFunction('convertToInteractive',\n",
              "                                                    [key], {});\n",
              "        if (!dataTable) return;\n",
              "\n",
              "        const docLinkHtml = 'Like what you see? Visit the ' +\n",
              "          '<a target=\"_blank\" href=https://colab.research.google.com/notebooks/data_table.ipynb>data table notebook</a>'\n",
              "          + ' to learn more about interactive tables.';\n",
              "        element.innerHTML = '';\n",
              "        dataTable['output_type'] = 'display_data';\n",
              "        await google.colab.output.renderOutput(dataTable, element);\n",
              "        const docLink = document.createElement('div');\n",
              "        docLink.innerHTML = docLinkHtml;\n",
              "        element.appendChild(docLink);\n",
              "      }\n",
              "    </script>\n",
              "  </div>\n",
              "\n",
              "\n",
              "<div id=\"df-00f283aa-07ed-4505-a3ea-577efb2549fd\">\n",
              "  <button class=\"colab-df-quickchart\" onclick=\"quickchart('df-00f283aa-07ed-4505-a3ea-577efb2549fd')\"\n",
              "            title=\"Suggest charts.\"\n",
              "            style=\"display:none;\">\n",
              "\n",
              "<svg xmlns=\"http://www.w3.org/2000/svg\" height=\"24px\"viewBox=\"0 0 24 24\"\n",
              "     width=\"24px\">\n",
              "    <g>\n",
              "        <path d=\"M19 3H5c-1.1 0-2 .9-2 2v14c0 1.1.9 2 2 2h14c1.1 0 2-.9 2-2V5c0-1.1-.9-2-2-2zM9 17H7v-7h2v7zm4 0h-2V7h2v10zm4 0h-2v-4h2v4z\"/>\n",
              "    </g>\n",
              "</svg>\n",
              "  </button>\n",
              "\n",
              "<style>\n",
              "  .colab-df-quickchart {\n",
              "      --bg-color: #E8F0FE;\n",
              "      --fill-color: #1967D2;\n",
              "      --hover-bg-color: #E2EBFA;\n",
              "      --hover-fill-color: #174EA6;\n",
              "      --disabled-fill-color: #AAA;\n",
              "      --disabled-bg-color: #DDD;\n",
              "  }\n",
              "\n",
              "  [theme=dark] .colab-df-quickchart {\n",
              "      --bg-color: #3B4455;\n",
              "      --fill-color: #D2E3FC;\n",
              "      --hover-bg-color: #434B5C;\n",
              "      --hover-fill-color: #FFFFFF;\n",
              "      --disabled-bg-color: #3B4455;\n",
              "      --disabled-fill-color: #666;\n",
              "  }\n",
              "\n",
              "  .colab-df-quickchart {\n",
              "    background-color: var(--bg-color);\n",
              "    border: none;\n",
              "    border-radius: 50%;\n",
              "    cursor: pointer;\n",
              "    display: none;\n",
              "    fill: var(--fill-color);\n",
              "    height: 32px;\n",
              "    padding: 0;\n",
              "    width: 32px;\n",
              "  }\n",
              "\n",
              "  .colab-df-quickchart:hover {\n",
              "    background-color: var(--hover-bg-color);\n",
              "    box-shadow: 0 1px 2px rgba(60, 64, 67, 0.3), 0 1px 3px 1px rgba(60, 64, 67, 0.15);\n",
              "    fill: var(--button-hover-fill-color);\n",
              "  }\n",
              "\n",
              "  .colab-df-quickchart-complete:disabled,\n",
              "  .colab-df-quickchart-complete:disabled:hover {\n",
              "    background-color: var(--disabled-bg-color);\n",
              "    fill: var(--disabled-fill-color);\n",
              "    box-shadow: none;\n",
              "  }\n",
              "\n",
              "  .colab-df-spinner {\n",
              "    border: 2px solid var(--fill-color);\n",
              "    border-color: transparent;\n",
              "    border-bottom-color: var(--fill-color);\n",
              "    animation:\n",
              "      spin 1s steps(1) infinite;\n",
              "  }\n",
              "\n",
              "  @keyframes spin {\n",
              "    0% {\n",
              "      border-color: transparent;\n",
              "      border-bottom-color: var(--fill-color);\n",
              "      border-left-color: var(--fill-color);\n",
              "    }\n",
              "    20% {\n",
              "      border-color: transparent;\n",
              "      border-left-color: var(--fill-color);\n",
              "      border-top-color: var(--fill-color);\n",
              "    }\n",
              "    30% {\n",
              "      border-color: transparent;\n",
              "      border-left-color: var(--fill-color);\n",
              "      border-top-color: var(--fill-color);\n",
              "      border-right-color: var(--fill-color);\n",
              "    }\n",
              "    40% {\n",
              "      border-color: transparent;\n",
              "      border-right-color: var(--fill-color);\n",
              "      border-top-color: var(--fill-color);\n",
              "    }\n",
              "    60% {\n",
              "      border-color: transparent;\n",
              "      border-right-color: var(--fill-color);\n",
              "    }\n",
              "    80% {\n",
              "      border-color: transparent;\n",
              "      border-right-color: var(--fill-color);\n",
              "      border-bottom-color: var(--fill-color);\n",
              "    }\n",
              "    90% {\n",
              "      border-color: transparent;\n",
              "      border-bottom-color: var(--fill-color);\n",
              "    }\n",
              "  }\n",
              "</style>\n",
              "\n",
              "  <script>\n",
              "    async function quickchart(key) {\n",
              "      const quickchartButtonEl =\n",
              "        document.querySelector('#' + key + ' button');\n",
              "      quickchartButtonEl.disabled = true;  // To prevent multiple clicks.\n",
              "      quickchartButtonEl.classList.add('colab-df-spinner');\n",
              "      try {\n",
              "        const charts = await google.colab.kernel.invokeFunction(\n",
              "            'suggestCharts', [key], {});\n",
              "      } catch (error) {\n",
              "        console.error('Error during call to suggestCharts:', error);\n",
              "      }\n",
              "      quickchartButtonEl.classList.remove('colab-df-spinner');\n",
              "      quickchartButtonEl.classList.add('colab-df-quickchart-complete');\n",
              "    }\n",
              "    (() => {\n",
              "      let quickchartButtonEl =\n",
              "        document.querySelector('#df-00f283aa-07ed-4505-a3ea-577efb2549fd button');\n",
              "      quickchartButtonEl.style.display =\n",
              "        google.colab.kernel.accessAllowed ? 'block' : 'none';\n",
              "    })();\n",
              "  </script>\n",
              "</div>\n",
              "    </div>\n",
              "  </div>\n"
            ],
            "text/plain": [
              "         Message                                                            \\\n",
              "           count unique                                                top   \n",
              "Category                                                                     \n",
              "ham         4825   4516                             Sorry, I'll call later   \n",
              "spam         747    641  Please call our customer service representativ...   \n",
              "\n",
              "               \n",
              "         freq  \n",
              "Category       \n",
              "ham        30  \n",
              "spam        4  "
            ]
          },
          "execution_count": 7,
          "metadata": {},
          "output_type": "execute_result"
        }
      ],
      "source": [
        "df.groupby('Category').describe()"
      ]
    },
    {
      "cell_type": "markdown",
      "metadata": {
        "id": "uOrKFuPXI7NJ"
      },
      "source": [
        "### Preprocessing"
      ]
    },
    {
      "cell_type": "markdown",
      "metadata": {
        "id": "xLTq1DTHI7NJ"
      },
      "source": [
        "##### Duplicates"
      ]
    },
    {
      "cell_type": "code",
      "execution_count": null,
      "metadata": {
        "id": "QW0vJnlWI7NJ"
      },
      "outputs": [],
      "source": [
        "df = df.drop_duplicates()"
      ]
    },
    {
      "cell_type": "markdown",
      "metadata": {
        "id": "mLTmIm5jI7NJ"
      },
      "source": [
        "##### Balance the data"
      ]
    },
    {
      "cell_type": "code",
      "execution_count": null,
      "metadata": {
        "colab": {
          "base_uri": "https://localhost:8080/"
        },
        "id": "2z1p9TaBI7NJ",
        "outputId": "4ef75bc5-73bd-48ec-a5bf-fc23b3f0c248"
      },
      "outputs": [
        {
          "data": {
            "text/plain": [
              "(1282, 2)"
            ]
          },
          "execution_count": 9,
          "metadata": {},
          "output_type": "execute_result"
        }
      ],
      "source": [
        "df_spam = df[df['Category'] == 'spam']\n",
        "df_ham = df[df['Category'] == 'ham']\n",
        "\n",
        "df_ham_downsampled = df_ham.sample(df_spam.shape[0], random_state=42)\n",
        "\n",
        "df_balanced = pd.concat([df_spam,df_ham_downsampled])\n",
        "df_balanced.shape\n"
      ]
    },
    {
      "cell_type": "markdown",
      "metadata": {
        "id": "4BPZ-0ukI7NJ"
      },
      "source": [
        "##### Binary representation of spam"
      ]
    },
    {
      "cell_type": "code",
      "execution_count": null,
      "metadata": {
        "id": "eXj0b8W_I7NK"
      },
      "outputs": [],
      "source": [
        "df_balanced['spam'] = df_balanced['Category'].apply(lambda x: 1 if x =='spam' else 0)"
      ]
    },
    {
      "cell_type": "markdown",
      "metadata": {
        "id": "hhRfv7N6I7NK"
      },
      "source": [
        "##### Split the data with shuffling"
      ]
    },
    {
      "cell_type": "code",
      "execution_count": null,
      "metadata": {
        "id": "6onQbVtAI7NK"
      },
      "outputs": [],
      "source": [
        "from sklearn.model_selection import train_test_split\n",
        "inputs = df_balanced['Message']\n",
        "targets = df_balanced['spam']\n",
        "train_inputs, test_inputs, train_targets, test_targets = train_test_split(inputs, targets, stratify = df_balanced['spam'])"
      ]
    },
    {
      "cell_type": "code",
      "execution_count": null,
      "metadata": {
        "colab": {
          "base_uri": "https://localhost:8080/"
        },
        "id": "Xi8HBTMgI7NK",
        "outputId": "9b9ac059-0c4e-46d5-c108-fe0374c82f82"
      },
      "outputs": [
        {
          "data": {
            "text/plain": [
              "array([481, 480])"
            ]
          },
          "execution_count": 12,
          "metadata": {},
          "output_type": "execute_result"
        }
      ],
      "source": [
        "import numpy as np\n",
        "np.bincount(train_targets)\n",
        "# 0 appeared 480 times\n",
        "# 1 appeared 481 times"
      ]
    },
    {
      "cell_type": "markdown",
      "metadata": {
        "id": "Kf8q7Ii3I7NK"
      },
      "source": [
        "### BERT"
      ]
    },
    {
      "cell_type": "markdown",
      "metadata": {
        "id": "b7JzyDmGI7NK"
      },
      "source": [
        "##### preprocessor and encoder"
      ]
    },
    {
      "cell_type": "code",
      "execution_count": null,
      "metadata": {
        "id": "wb1jBz0hI7NK"
      },
      "outputs": [],
      "source": [
        "preprocessing_url = \"https://tfhub.dev/tensorflow/bert_en_uncased_preprocess/3\"\n",
        "encoder_url = \"https://tfhub.dev/tensorflow/bert_en_uncased_L-12_H-768_A-12/4\""
      ]
    },
    {
      "cell_type": "code",
      "execution_count": null,
      "metadata": {
        "id": "5-f35GcjI7NK"
      },
      "outputs": [],
      "source": [
        "bert_preprocessor = hub.KerasLayer(preprocessing_url)"
      ]
    },
    {
      "cell_type": "markdown",
      "metadata": {
        "id": "pMoYuWfCQRlh"
      },
      "source": [
        "##### Small Demonstration"
      ]
    },
    {
      "cell_type": "code",
      "execution_count": null,
      "metadata": {
        "colab": {
          "base_uri": "https://localhost:8080/"
        },
        "id": "oYe2SF9xI7NL",
        "outputId": "6719caf6-c1bf-4835-cc37-35aaf60ef15c"
      },
      "outputs": [
        {
          "data": {
            "text/plain": [
              "dict_keys(['input_type_ids', 'input_mask', 'input_word_ids'])"
            ]
          },
          "execution_count": 15,
          "metadata": {},
          "output_type": "execute_result"
        }
      ],
      "source": [
        "sample_text = [\"nice movie indeed\", \"I love Python Programming\",\"mango\", \"apple\"]\n",
        "preprocessed_text = bert_preprocessor(sample_text)\n",
        "preprocessed_text.keys()"
      ]
    },
    {
      "cell_type": "markdown",
      "metadata": {
        "id": "wDxSAyuZRlAC"
      },
      "source": [
        "###### The keys:\n",
        "1. 'input_word_ids': Contains tokenized and integer-encoded text, representing words and subwords converted to numerical IDs.\n",
        "2. 'input_mask': A binary mask indicating which tokens are actual input (1) and which are padding (0), ensuring consistent input sequence lengths.\n",
        "3. 'input_type_ids' (optional): Represents segment IDs for multiple sentence inputs, used in tasks with multiple segments; may be absent for single-sentence input."
      ]
    },
    {
      "cell_type": "code",
      "execution_count": null,
      "metadata": {
        "colab": {
          "base_uri": "https://localhost:8080/"
        },
        "id": "6ZDhv3-_I7NL",
        "outputId": "c90d3931-a408-4558-f1e9-83b5e6796936"
      },
      "outputs": [
        {
          "data": {
            "text/plain": [
              "<tf.Tensor: shape=(128,), dtype=int32, numpy=\n",
              "array([1, 1, 1, 1, 1, 0, 0, 0, 0, 0, 0, 0, 0, 0, 0, 0, 0, 0, 0, 0, 0, 0,\n",
              "       0, 0, 0, 0, 0, 0, 0, 0, 0, 0, 0, 0, 0, 0, 0, 0, 0, 0, 0, 0, 0, 0,\n",
              "       0, 0, 0, 0, 0, 0, 0, 0, 0, 0, 0, 0, 0, 0, 0, 0, 0, 0, 0, 0, 0, 0,\n",
              "       0, 0, 0, 0, 0, 0, 0, 0, 0, 0, 0, 0, 0, 0, 0, 0, 0, 0, 0, 0, 0, 0,\n",
              "       0, 0, 0, 0, 0, 0, 0, 0, 0, 0, 0, 0, 0, 0, 0, 0, 0, 0, 0, 0, 0, 0,\n",
              "       0, 0, 0, 0, 0, 0, 0, 0, 0, 0, 0, 0, 0, 0, 0, 0, 0, 0], dtype=int32)>"
            ]
          },
          "execution_count": 16,
          "metadata": {},
          "output_type": "execute_result"
        }
      ],
      "source": [
        "preprocessed_text['input_mask'][0]\n",
        "# although our first sentence is of 3 words, we got 5  1's,\n",
        "# it has put special token CLS in the beginning and\n",
        "# to seperate 2 sentences, SEP, separator in the end"
      ]
    },
    {
      "cell_type": "code",
      "execution_count": null,
      "metadata": {
        "colab": {
          "base_uri": "https://localhost:8080/"
        },
        "id": "zETY1Z3BR4ZM",
        "outputId": "51d9dad0-5431-4ba2-9590-9ed99da2b84f"
      },
      "outputs": [
        {
          "data": {
            "text/plain": [
              "<tf.Tensor: shape=(128,), dtype=int32, numpy=\n",
              "array([ 101, 3835, 3185, 5262,  102,    0,    0,    0,    0,    0,    0,\n",
              "          0,    0,    0,    0,    0,    0,    0,    0,    0,    0,    0,\n",
              "          0,    0,    0,    0,    0,    0,    0,    0,    0,    0,    0,\n",
              "          0,    0,    0,    0,    0,    0,    0,    0,    0,    0,    0,\n",
              "          0,    0,    0,    0,    0,    0,    0,    0,    0,    0,    0,\n",
              "          0,    0,    0,    0,    0,    0,    0,    0,    0,    0,    0,\n",
              "          0,    0,    0,    0,    0,    0,    0,    0,    0,    0,    0,\n",
              "          0,    0,    0,    0,    0,    0,    0,    0,    0,    0,    0,\n",
              "          0,    0,    0,    0,    0,    0,    0,    0,    0,    0,    0,\n",
              "          0,    0,    0,    0,    0,    0,    0,    0,    0,    0,    0,\n",
              "          0,    0,    0,    0,    0,    0,    0,    0,    0,    0,    0,\n",
              "          0,    0,    0,    0,    0,    0,    0], dtype=int32)>"
            ]
          },
          "execution_count": 17,
          "metadata": {},
          "output_type": "execute_result"
        }
      ],
      "source": [
        "preprocessed_text['input_word_ids'][0]"
      ]
    },
    {
      "cell_type": "code",
      "execution_count": null,
      "metadata": {
        "colab": {
          "base_uri": "https://localhost:8080/"
        },
        "id": "wEeEQ6NoSoc_",
        "outputId": "8bf6db36-eff1-4577-f70e-bf4a5c72e8df"
      },
      "outputs": [
        {
          "data": {
            "text/plain": [
              "dict_keys(['encoder_outputs', 'pooled_output', 'default', 'sequence_output'])"
            ]
          },
          "execution_count": 18,
          "metadata": {},
          "output_type": "execute_result"
        }
      ],
      "source": [
        "# Now we add another layer for bert model\n",
        "bert_model = hub.KerasLayer(encoder_url)\n",
        "\n",
        "bert_results = bert_model(preprocessed_text)\n",
        "bert_results.keys()"
      ]
    },
    {
      "cell_type": "markdown",
      "metadata": {
        "id": "UG5J_vfnT950"
      },
      "source": [
        "##### The keys:\n",
        "1. 'sequence_output': Contextualized token representations in the input text.\n",
        "2. 'pooled_output': A fixed-size embedding for the entire input sequence.\n",
        "3. 'encoder_outputs' (optional): Hidden states of the BERT model, containing internal representations.\n",
        "  - Two types of bert: base amd large, here we used the base one so the length of it will be 12\n",
        "4. 'default': It can be used to access BERT model outputs when no specific key is specified."
      ]
    },
    {
      "cell_type": "code",
      "execution_count": null,
      "metadata": {
        "colab": {
          "base_uri": "https://localhost:8080/"
        },
        "id": "fGt3-UlcTYv9",
        "outputId": "810a8d4e-9286-4b0e-ed8d-91a9a23d37df"
      },
      "outputs": [
        {
          "data": {
            "text/plain": [
              "<tf.Tensor: shape=(4, 768), dtype=float32, numpy=\n",
              "array([[-0.7917741 , -0.21411912,  0.49769545, ...,  0.24465233,\n",
              "        -0.47334483,  0.81758696],\n",
              "       [-0.91712326, -0.47935176, -0.7865698 , ..., -0.6175174 ,\n",
              "        -0.71026856,  0.92184305],\n",
              "       [-0.7128862 , -0.15463912,  0.38401636, ...,  0.3527872 ,\n",
              "        -0.5099134 ,  0.73474103],\n",
              "       [-0.8196458 , -0.29609624,  0.2095171 , ...,  0.2559334 ,\n",
              "        -0.58743   ,  0.8434557 ]], dtype=float32)>"
            ]
          },
          "execution_count": 19,
          "metadata": {},
          "output_type": "execute_result"
        }
      ],
      "source": [
        "bert_results['pooled_output']\n",
        "# here we got embedding vector for all the 128 inputs shown above"
      ]
    },
    {
      "cell_type": "code",
      "execution_count": null,
      "metadata": {
        "colab": {
          "base_uri": "https://localhost:8080/"
        },
        "id": "JfnHrvFVTdTa",
        "outputId": "0314383d-e345-4703-fbad-b4ceb427f332"
      },
      "outputs": [
        {
          "data": {
            "text/plain": [
              "<tf.Tensor: shape=(128, 768), dtype=float32, numpy=\n",
              "array([[ 0.07292047,  0.08567817,  0.14476831, ..., -0.09677088,\n",
              "         0.08722127,  0.07711085],\n",
              "       [ 0.1783942 , -0.19006078,  0.5034952 , ..., -0.05869824,\n",
              "         0.32717073, -0.15578493],\n",
              "       [ 0.18701449, -0.43388748, -0.4887515 , ..., -0.15502778,\n",
              "         0.00145182, -0.24471016],\n",
              "       ...,\n",
              "       [ 0.12083091,  0.12884252,  0.46453542, ...,  0.0737552 ,\n",
              "         0.17441946,  0.16522075],\n",
              "       [ 0.07967882, -0.01190652,  0.502254  , ...,  0.13777725,\n",
              "         0.21002197,  0.00624588],\n",
              "       [-0.07212701, -0.28303462,  0.59033376, ...,  0.475519  ,\n",
              "         0.16668482, -0.08920349]], dtype=float32)>"
            ]
          },
          "execution_count": 20,
          "metadata": {},
          "output_type": "execute_result"
        }
      ],
      "source": [
        "bert_results['sequence_output'][0]\n",
        "# the second array shown just below is the vector for the word 'movie' of 768 elements\n",
        "# This is a contextualized embedding so the vector of padding we also have some value"
      ]
    },
    {
      "cell_type": "markdown",
      "metadata": {
        "id": "VvoWe6WBZk0E"
      },
      "source": [
        "###### Cosine similarity"
      ]
    },
    {
      "cell_type": "code",
      "execution_count": null,
      "metadata": {
        "colab": {
          "base_uri": "https://localhost:8080/"
        },
        "id": "GpLe-VQiZo5t",
        "outputId": "f08665c3-bb9e-4e64-dbda-d76a2cf94237"
      },
      "outputs": [
        {
          "data": {
            "text/plain": [
              "array([[0.96140397]], dtype=float32)"
            ]
          },
          "execution_count": 21,
          "metadata": {},
          "output_type": "execute_result"
        }
      ],
      "source": [
        "from sklearn.metrics.pairwise import cosine_similarity\n",
        "results = bert_results['pooled_output']\n",
        "cosine_similarity([results[2]],[results[3]])\n",
        "# this shows that mango and apple are similar\n"
      ]
    },
    {
      "cell_type": "markdown",
      "metadata": {
        "id": "CWXVpVB3WUHD"
      },
      "source": [
        "##### Demonstration complete: continuation of model"
      ]
    },
    {
      "cell_type": "markdown",
      "metadata": {
        "id": "xfv0SirObeXS"
      },
      "source": [
        "#### We create function to get embedding vector"
      ]
    },
    {
      "cell_type": "code",
      "execution_count": null,
      "metadata": {
        "id": "SVQaiZgYTyHJ"
      },
      "outputs": [],
      "source": [
        "def get_sentence_embedding(sentence):\n",
        "  preprocessed_sentence = bert_preprocessor(sentence)\n",
        "  result = bert_model(preprocessed_sentence)\n",
        "  return result['pooled_output']"
      ]
    },
    {
      "cell_type": "markdown",
      "metadata": {
        "id": "9mRQVdKa6ATJ"
      },
      "source": [
        "#### We create functional model"
      ]
    },
    {
      "cell_type": "code",
      "execution_count": null,
      "metadata": {
        "id": "Sxx4qiL65_Ub"
      },
      "outputs": [],
      "source": [
        " # BERT layers\n",
        "text_inputs = tf.keras.layers.Input(shape=(), dtype = tf.string, name='bert_input')\n",
        "preprocessed_text = bert_preprocessor(text_inputs)\n",
        "outputs = bert_model(preprocessed_text)\n",
        "\n",
        "# Neural Network Layer\n",
        "dropout_layer = tf.keras.layers.Dropout(0.2,name='drop_layer')(outputs['pooled_output'])\n",
        "result = tf.keras.layers.Dense(1,activation = 'sigmoid', name = 'final_output')(dropout_layer)\n",
        "\n",
        "# construct final model\n",
        "model = tf.keras.Model(inputs=[text_inputs], outputs= [result])"
      ]
    },
    {
      "cell_type": "markdown",
      "metadata": {
        "id": "nXjCopth5_i5"
      },
      "source": []
    },
    {
      "cell_type": "code",
      "execution_count": null,
      "metadata": {
        "colab": {
          "base_uri": "https://localhost:8080/"
        },
        "id": "JedH9dHlWu9m",
        "outputId": "f5ad39bf-f71d-4afe-d764-1017eaa85b46"
      },
      "outputs": [
        {
          "name": "stdout",
          "output_type": "stream",
          "text": [
            "Model: \"model\"\n",
            "__________________________________________________________________________________________________\n",
            " Layer (type)                Output Shape                 Param #   Connected to                  \n",
            "==================================================================================================\n",
            " bert_input (InputLayer)     [(None,)]                    0         []                            \n",
            "                                                                                                  \n",
            " keras_layer (KerasLayer)    {'input_type_ids': (None,    0         ['bert_input[0][0]']          \n",
            "                             128),                                                                \n",
            "                              'input_mask': (None, 128)                                           \n",
            "                             , 'input_word_ids': (None,                                           \n",
            "                              128)}                                                               \n",
            "                                                                                                  \n",
            " keras_layer_1 (KerasLayer)  {'encoder_outputs': [(None   1094822   ['keras_layer[4][0]',         \n",
            "                             , 128, 768),                 41         'keras_layer[4][1]',         \n",
            "                              (None, 128, 768),                      'keras_layer[4][2]']         \n",
            "                              (None, 128, 768),                                                   \n",
            "                              (None, 128, 768),                                                   \n",
            "                              (None, 128, 768),                                                   \n",
            "                              (None, 128, 768),                                                   \n",
            "                              (None, 128, 768),                                                   \n",
            "                              (None, 128, 768),                                                   \n",
            "                              (None, 128, 768),                                                   \n",
            "                              (None, 128, 768),                                                   \n",
            "                              (None, 128, 768),                                                   \n",
            "                              (None, 128, 768)],                                                  \n",
            "                              'pooled_output': (None, 7                                           \n",
            "                             68),                                                                 \n",
            "                              'default': (None, 768),                                             \n",
            "                              'sequence_output': (None,                                           \n",
            "                              128, 768)}                                                          \n",
            "                                                                                                  \n",
            " drop_layer (Dropout)        (None, 768)                  0         ['keras_layer_1[3][13]']      \n",
            "                                                                                                  \n",
            " final_output (Dense)        (None, 1)                    769       ['drop_layer[0][0]']          \n",
            "                                                                                                  \n",
            "==================================================================================================\n",
            "Total params: 109483010 (417.64 MB)\n",
            "Trainable params: 769 (3.00 KB)\n",
            "Non-trainable params: 109482241 (417.64 MB)\n",
            "__________________________________________________________________________________________________\n"
          ]
        }
      ],
      "source": [
        "model.summary()"
      ]
    },
    {
      "cell_type": "code",
      "execution_count": null,
      "metadata": {
        "colab": {
          "base_uri": "https://localhost:8080/",
          "height": 466
        },
        "id": "6OxgEtLX9mQe",
        "outputId": "3cd126e1-c121-42fb-e3b9-bd025ec6aefc"
      },
      "outputs": [
        {
          "data": {
            "image/png": "[encoded data removed]",
            "text/plain": [
              "<IPython.core.display.Image object>"
            ]
          },
          "execution_count": 32,
          "metadata": {},
          "output_type": "execute_result"
        }
      ],
      "source": [
        "from tensorflow.keras.utils import *\n",
        "\n",
        "\n",
        "plot_model(model, to_file='model_plot.png', show_shapes=False, show_layer_names=True)"
      ]
    },
    {
      "cell_type": "markdown",
      "metadata": {
        "id": "9Lqnb-4G-SVK"
      },
      "source": [
        "#### Compile and evaluate the model"
      ]
    },
    {
      "cell_type": "code",
      "execution_count": null,
      "metadata": {
        "id": "fwbjO5fh97Ak"
      },
      "outputs": [],
      "source": [
        "METRICS = [\n",
        "    tf.keras.metrics.BinaryAccuracy(name = 'Accuracy'),\n",
        "    tf.keras.metrics.Precision(name = 'Precision'),\n",
        "    tf.keras.metrics.Recall(name = 'Recall')\n",
        "]\n",
        "\n",
        "model.compile(optimizer = 'adam',\n",
        "              loss = 'binary_crossentropy',\n",
        "              metrics = METRICS)"
      ]
    },
    {
      "cell_type": "code",
      "execution_count": null,
      "metadata": {
        "colab": {
          "base_uri": "https://localhost:8080/"
        },
        "id": "gqFiaV4i-vqe",
        "outputId": "59a114bc-55cf-4b35-fad5-7205871f200f"
      },
      "outputs": [
        {
          "name": "stdout",
          "output_type": "stream",
          "text": [
            "Epoch 1/10\n",
            "31/31 [==============================] - 563s 18s/step - loss: 0.6529 - Accuracy: 0.6223 - Precision: 0.6232 - Recall: 0.6167\n",
            "Epoch 2/10\n",
            "31/31 [==============================] - 430s 14s/step - loss: 0.5464 - Accuracy: 0.7440 - Precision: 0.7276 - Recall: 0.7792\n",
            "Epoch 3/10\n",
            "31/31 [==============================] - 421s 14s/step - loss: 0.4704 - Accuracy: 0.8241 - Precision: 0.8233 - Recall: 0.8250\n",
            "Epoch 4/10\n",
            "31/31 [==============================] - 420s 14s/step - loss: 0.4310 - Accuracy: 0.8470 - Precision: 0.8364 - Recall: 0.8625\n",
            "Epoch 5/10\n",
            "31/31 [==============================] - 420s 14s/step - loss: 0.4017 - Accuracy: 0.8626 - Precision: 0.8412 - Recall: 0.8938\n",
            "Epoch 6/10\n",
            "31/31 [==============================] - 421s 14s/step - loss: 0.3700 - Accuracy: 0.8741 - Precision: 0.8554 - Recall: 0.9000\n",
            "Epoch 7/10\n",
            "31/31 [==============================] - 423s 14s/step - loss: 0.3493 - Accuracy: 0.8855 - Precision: 0.8642 - Recall: 0.9146\n",
            "Epoch 8/10\n",
            "31/31 [==============================] - 421s 14s/step - loss: 0.3499 - Accuracy: 0.8699 - Precision: 0.8769 - Recall: 0.8604\n",
            "Epoch 9/10\n",
            "31/31 [==============================] - 419s 13s/step - loss: 0.3271 - Accuracy: 0.8876 - Precision: 0.8843 - Recall: 0.8917\n",
            "Epoch 10/10\n",
            "31/31 [==============================] - 421s 14s/step - loss: 0.3172 - Accuracy: 0.8866 - Precision: 0.8644 - Recall: 0.9167\n"
          ]
        },
        {
          "data": {
            "text/plain": [
              "<keras.src.callbacks.History at 0x7b63333b10f0>"
            ]
          },
          "execution_count": 35,
          "metadata": {},
          "output_type": "execute_result"
        }
      ],
      "source": [
        "model.fit(train_inputs,train_targets,epochs =10)"
      ]
    },
    {
      "cell_type": "code",
      "execution_count": null,
      "metadata": {
        "colab": {
          "base_uri": "https://localhost:8080/"
        },
        "id": "mXhLmM0i_aOE",
        "outputId": "b184d84c-bfec-4056-cd31-b6e1053d2202"
      },
      "outputs": [
        {
          "name": "stdout",
          "output_type": "stream",
          "text": [
            "11/11 [==============================] - 143s 13s/step - loss: 0.3275 - Accuracy: 0.8972 - Precision: 0.9444 - Recall: 0.8447\n"
          ]
        },
        {
          "data": {
            "text/plain": [
              "[0.3274734914302826,\n",
              " 0.8971962332725525,\n",
              " 0.9444444179534912,\n",
              " 0.8447204828262329]"
            ]
          },
          "execution_count": 36,
          "metadata": {},
          "output_type": "execute_result"
        }
      ],
      "source": [
        "model.evaluate(test_inputs, test_targets)"
      ]
    },
    {
      "cell_type": "markdown",
      "metadata": {
        "id": "Ctp2NZDv_Ty6"
      },
      "source": [
        "### Visualize the findings"
      ]
    },
    {
      "cell_type": "markdown",
      "metadata": {
        "id": "7a-4MRsU_uIC"
      },
      "source": [
        "#### y_predicted"
      ]
    },
    {
      "cell_type": "code",
      "execution_count": null,
      "metadata": {
        "colab": {
          "base_uri": "https://localhost:8080/"
        },
        "id": "OdH1S0VUUr5q",
        "outputId": "618b9fd8-ff25-414a-929d-117c23a79634"
      },
      "outputs": [
        {
          "name": "stdout",
          "output_type": "stream",
          "text": [
            "11/11 [==============================] - 143s 13s/step\n"
          ]
        },
        {
          "data": {
            "text/plain": [
              "array([0.11203412, 0.47571686, 0.9713501 , 0.08917432, 0.49208906,\n",
              "       0.83325094, 0.04865545, 0.9484084 , 0.9450161 , 0.8199021 ,\n",
              "       0.41015324, 0.09439763, 0.89848626, 0.15879083, 0.014549  ,\n",
              "       0.7898002 , 0.0103737 , 0.6303189 , 0.35194564, 0.84522307,\n",
              "       0.93871003, 0.05338246, 0.896051  , 0.36793205, 0.16254441,\n",
              "       0.87154794, 0.6784087 , 0.97371   , 0.08431292, 0.78862053,\n",
              "       0.25040346, 0.94920635, 0.09284536, 0.16785984, 0.8161268 ,\n",
              "       0.61999804, 0.12562504, 0.02349035, 0.34539557, 0.05662541,\n",
              "       0.15584238, 0.7293263 , 0.73100626, 0.55315644, 0.9507709 ,\n",
              "       0.3757481 , 0.4008992 , 0.95714605, 0.10254527, 0.94995177,\n",
              "       0.05654046, 0.74775445, 0.54070973, 0.02739208, 0.9171677 ,\n",
              "       0.9254585 , 0.4183997 , 0.9339762 , 0.57628846, 0.06725704,\n",
              "       0.4881043 , 0.73742634, 0.12111836, 0.91984886, 0.09041379,\n",
              "       0.14932121, 0.16684516, 0.17329079, 0.65863854, 0.696718  ,\n",
              "       0.07324483, 0.754145  , 0.12256165, 0.21151313, 0.463072  ,\n",
              "       0.37561542, 0.21507609, 0.656668  , 0.03153567, 0.11742128,\n",
              "       0.7544725 , 0.01727425, 0.20612508, 0.51681256, 0.38724777,\n",
              "       0.3679726 , 0.14496419, 0.3836711 , 0.04003016, 0.03582471,\n",
              "       0.61245203, 0.02869947, 0.0477405 , 0.07500677, 0.9110153 ,\n",
              "       0.71562165, 0.8455382 , 0.14188872, 0.86860067, 0.65778583,\n",
              "       0.8865165 , 0.77815354, 0.6533124 , 0.49461207, 0.12013752,\n",
              "       0.2449886 , 0.40032426, 0.1794647 , 0.8425485 , 0.14041424,\n",
              "       0.29799232, 0.94972336, 0.02357524, 0.95598644, 0.02039838,\n",
              "       0.18989499, 0.26473325, 0.5110049 , 0.3893205 , 0.79913425,\n",
              "       0.7535887 , 0.15396181, 0.08934814, 0.90273166, 0.12864755,\n",
              "       0.4768503 , 0.88467675, 0.79322755, 0.91900325, 0.7893363 ,\n",
              "       0.03666196, 0.05672717, 0.04867075, 0.8749845 , 0.87721884,\n",
              "       0.92021185, 0.0225438 , 0.15303339, 0.01847234, 0.61269957,\n",
              "       0.07094837, 0.3524627 , 0.5465529 , 0.12995608, 0.03704989,\n",
              "       0.25810507, 0.04773891, 0.28315872, 0.03774348, 0.04531609,\n",
              "       0.66401666, 0.5379281 , 0.38744384, 0.20154408, 0.35801208,\n",
              "       0.15399681, 0.35058257, 0.51584643, 0.05876737, 0.9071344 ,\n",
              "       0.63452494, 0.46333036, 0.71273595, 0.88628983, 0.9147727 ,\n",
              "       0.6789649 , 0.02895759, 0.5185791 , 0.18964447, 0.30953076,\n",
              "       0.38939354, 0.05127029, 0.07795759, 0.23594391, 0.94332653,\n",
              "       0.10485377, 0.86807525, 0.33987385, 0.65791094, 0.24201065,\n",
              "       0.8035898 , 0.18276083, 0.10012381, 0.9000585 , 0.11493102,\n",
              "       0.14332476, 0.08437658, 0.03709034, 0.778338  , 0.4075274 ,\n",
              "       0.4478928 , 0.12185226, 0.778554  , 0.0531455 , 0.9731627 ,\n",
              "       0.9376207 , 0.57326454, 0.6684861 , 0.10731849, 0.68726826,\n",
              "       0.54682535, 0.9505497 , 0.87789994, 0.02356499, 0.03515754,\n",
              "       0.7506391 , 0.41628376, 0.48871598, 0.8681986 , 0.48671827,\n",
              "       0.04323627, 0.8987349 , 0.6624247 , 0.6618301 , 0.20922118,\n",
              "       0.43989447, 0.0200166 , 0.89833844, 0.25244725, 0.10901543,\n",
              "       0.8143967 , 0.89647007, 0.8736723 , 0.7609177 , 0.5019109 ,\n",
              "       0.94169474, 0.28275856, 0.9031877 , 0.11681055, 0.02610324,\n",
              "       0.8917108 , 0.01685213, 0.5994047 , 0.50758356, 0.859041  ,\n",
              "       0.05747253, 0.11367631, 0.9056485 , 0.17833333, 0.08042925,\n",
              "       0.90411067, 0.79125935, 0.9768201 , 0.35811168, 0.15791836,\n",
              "       0.48687217, 0.12859876, 0.17517513, 0.07147923, 0.3427174 ,\n",
              "       0.0251479 , 0.11811833, 0.17210165, 0.4363667 , 0.15491004,\n",
              "       0.01708571, 0.1071491 , 0.9392706 , 0.563693  , 0.7604374 ,\n",
              "       0.03164098, 0.4082529 , 0.22422256, 0.00642574, 0.7761946 ,\n",
              "       0.1265886 , 0.6877367 , 0.8656889 , 0.920231  , 0.7647716 ,\n",
              "       0.08447885, 0.861442  , 0.05813494, 0.69548446, 0.78714216,\n",
              "       0.86174804, 0.19589627, 0.88823277, 0.9324395 , 0.78567743,\n",
              "       0.13366547, 0.7395708 , 0.8539826 , 0.01322602, 0.13309163,\n",
              "       0.06784872, 0.16147792, 0.26077873, 0.73208004, 0.6705982 ,\n",
              "       0.60094917, 0.68923485, 0.86003846, 0.88809496, 0.9145559 ,\n",
              "       0.04533429, 0.03741292, 0.9156701 , 0.05521223, 0.19761251,\n",
              "       0.82563215, 0.47100005, 0.08151525, 0.39151463, 0.719759  ,\n",
              "       0.2559831 , 0.7821932 , 0.02147558, 0.12349403, 0.56436473,\n",
              "       0.43996757, 0.5168077 , 0.8729435 , 0.73044354, 0.82121706,\n",
              "       0.38869008, 0.11261813, 0.06930231, 0.30350253, 0.8298576 ,\n",
              "       0.86344725], dtype=float32)"
            ]
          },
          "execution_count": 50,
          "metadata": {},
          "output_type": "execute_result"
        }
      ],
      "source": [
        "y_predicted = model.predict(test_inputs)\n",
        "y_predicted = y_predicted.flatten() # to convert into 1 dimentional array"
      ]
    },
    {
      "cell_type": "code",
      "execution_count": null,
      "metadata": {
        "colab": {
          "base_uri": "https://localhost:8080/"
        },
        "id": "e7TH6cvCW_yv",
        "outputId": "d2a73646-d225-4d09-acc9-8e655a3991bf"
      },
      "outputs": [
        {
          "data": {
            "text/plain": [
              "array([0, 0, 1, 0, 0, 1, 0, 1, 1, 1, 0, 0, 1, 0, 0, 1, 0, 1, 0, 1, 1, 0,\n",
              "       1, 0, 0, 1, 1, 1, 0, 1, 0, 1, 0, 0, 1, 1, 0, 0, 0, 0, 0, 1, 1, 1,\n",
              "       1, 0, 0, 1, 0, 1, 0, 1, 1, 0, 1, 1, 0, 1, 1, 0, 0, 1, 0, 1, 0, 0,\n",
              "       0, 0, 1, 1, 0, 1, 0, 0, 0, 0, 0, 1, 0, 0, 1, 0, 0, 1, 0, 0, 0, 0,\n",
              "       0, 0, 1, 0, 0, 0, 1, 1, 1, 0, 1, 1, 1, 1, 1, 0, 0, 0, 0, 0, 1, 0,\n",
              "       0, 1, 0, 1, 0, 0, 0, 1, 0, 1, 1, 0, 0, 1, 0, 0, 1, 1, 1, 1, 0, 0,\n",
              "       0, 1, 1, 1, 0, 0, 0, 1, 0, 0, 1, 0, 0, 0, 0, 0, 0, 0, 1, 1, 0, 0,\n",
              "       0, 0, 0, 1, 0, 1, 1, 0, 1, 1, 1, 1, 0, 1, 0, 0, 0, 0, 0, 0, 1, 0,\n",
              "       1, 0, 1, 0, 1, 0, 0, 1, 0, 0, 0, 0, 1, 0, 0, 0, 1, 0, 1, 1, 1, 1,\n",
              "       0, 1, 1, 1, 1, 0, 0, 1, 0, 0, 1, 0, 0, 1, 1, 1, 0, 0, 0, 1, 0, 0,\n",
              "       1, 1, 1, 1, 1, 1, 0, 1, 0, 0, 1, 0, 1, 1, 1, 0, 0, 1, 0, 0, 1, 1,\n",
              "       1, 0, 0, 0, 0, 0, 0, 0, 0, 0, 0, 0, 0, 0, 0, 1, 1, 1, 0, 0, 0, 0,\n",
              "       1, 0, 1, 1, 1, 1, 0, 1, 0, 1, 1, 1, 0, 1, 1, 1, 0, 1, 1, 0, 0, 0,\n",
              "       0, 0, 1, 1, 1, 1, 1, 1, 1, 0, 0, 1, 0, 0, 1, 0, 0, 0, 1, 0, 1, 0,\n",
              "       0, 1, 0, 1, 1, 1, 1, 0, 0, 0, 0, 1, 1])"
            ]
          },
          "execution_count": 53,
          "metadata": {},
          "output_type": "execute_result"
        }
      ],
      "source": [
        "# These values are between 0 and 1, so we convert them into 0 and 1\n",
        "y_predicted = np.where(y_predicted > 0.5, 1,0)\n",
        "y_predicted"
      ]
    },
    {
      "cell_type": "markdown",
      "metadata": {
        "id": "zeg4YI8GASzi"
      },
      "source": [
        "#### Confusion matrics and classification report"
      ]
    },
    {
      "cell_type": "code",
      "execution_count": null,
      "metadata": {
        "colab": {
          "base_uri": "https://localhost:8080/",
          "height": 466
        },
        "id": "1ThJ670SBJsC",
        "outputId": "c716a156-9fd7-4579-e875-c7a4c28c3faa"
      },
      "outputs": [
        {
          "data": {
            "text/plain": [
              "Text(50.722222222222214, 0.5, 'Actual')"
            ]
          },
          "execution_count": 54,
          "metadata": {},
          "output_type": "execute_result"
        },
        {
          "data": {
            "image/png": "[encoded data removed]",
            "text/plain": [
              "<Figure size 640x480 with 2 Axes>"
            ]
          },
          "metadata": {},
          "output_type": "display_data"
        }
      ],
      "source": [
        "from sklearn.metrics import confusion_matrix, classification_report\n",
        "\n",
        "confusion_mat = confusion_matrix(test_targets, y_predicted)\n",
        "\n",
        "# to make it vusually appealing\n",
        "\n",
        "import matplotlib.pyplot as plt\n",
        "import seaborn as sns\n",
        "sns.heatmap(confusion_mat, annot=True, fmt='d')\n",
        "plt.xlabel('predicted')\n",
        "plt.ylabel('Actual')"
      ]
    },
    {
      "cell_type": "code",
      "execution_count": null,
      "metadata": {
        "colab": {
          "base_uri": "https://localhost:8080/"
        },
        "id": "8t89AlKqBFm3",
        "outputId": "ce783106-da52-4a74-917e-2d5e421cff0c"
      },
      "outputs": [
        {
          "name": "stdout",
          "output_type": "stream",
          "text": [
            "              precision    recall  f1-score   support\n",
            "\n",
            "           0       0.86      0.95      0.90       160\n",
            "           1       0.94      0.84      0.89       161\n",
            "\n",
            "    accuracy                           0.90       321\n",
            "   macro avg       0.90      0.90      0.90       321\n",
            "weighted avg       0.90      0.90      0.90       321\n",
            "\n"
          ]
        }
      ],
      "source": [
        "print(classification_report(test_targets,y_predicted))"
      ]
    },
    {
      "cell_type": "markdown",
      "metadata": {
        "id": "o6O98DNnXP9n"
      },
      "source": [
        "### Save model\n"
      ]
    },
    {
      "cell_type": "code",
      "execution_count": null,
      "metadata": {},
      "outputs": [],
      "source": [
        "model_version = 1\n",
        "model.save(f\"D:\\GITHUB\\ML\\4_NLP\\BERT\\1_Spam_Email_Detector/{model_version}\")"
      ]
    }
  ],
  "metadata": {
    "colab": {
      "provenance": []
    },
    "kernelspec": {
      "display_name": "py3-TF2",
      "language": "python",
      "name": "python3"
    },
    "language_info": {
      "codemirror_mode": {
        "name": "ipython",
        "version": 3
      },
      "file_extension": ".py",
      "mimetype": "text/x-python",
      "name": "python",
      "nbconvert_exporter": "python",
      "pygments_lexer": "ipython3",
      "version": "3.10.13"
    }
  },
  "nbformat": 4,
  "nbformat_minor": 0
}
